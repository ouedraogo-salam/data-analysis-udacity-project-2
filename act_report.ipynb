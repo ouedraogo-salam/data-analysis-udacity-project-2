{
 "cells": [
  {
   "cell_type": "markdown",
   "id": "1d09b0e9-7e73-4214-90ec-a77211e134ae",
   "metadata": {},
   "source": [
    "## Étape 5 : analyse et visualisation des données\n",
    "  \n",
    "Étape 1 : Questions  \n",
    "Étape 2 : Analyse Exploratoire des données  \n",
    "Étape 3 : Conclusion  "
   ]
  },
  {
   "cell_type": "markdown",
   "id": "762da9ba-6b33-4611-8ed1-7f88771169a8",
   "metadata": {},
   "source": [
    "### Étape 2 : Questions\n",
    "1. Le nombre de retweet permet-elle beaucoup de favori ?\n",
    "2. Est-ce que le nombre d’user_followers augmente le nombre de favori ?\n",
    "3. Quelle année l'auteur compte le plus de favorite(j'aime) ?\n",
    "4. Quels sont les cinq premiers chiens ayant reçu le plus de favori (j’aime) durant l'année 2017 ?\n",
    "5. Le nombre de retweet augmente-t-elle en fonction de l’année ?"
   ]
  },
  {
   "cell_type": "code",
   "execution_count": 1,
   "id": "de5ca005-c9e3-40d2-9976-488ed6ddfb0c",
   "metadata": {
    "tags": []
   },
   "outputs": [],
   "source": [
    "# Chargement des librairies necessaire \n",
    "import pandas as pd\n",
    "import numpy as np\n",
    "import matplotlib.pyplot as plt\n",
    "import seaborn as sns"
   ]
  },
  {
   "cell_type": "code",
   "execution_count": 2,
   "id": "4b0ef54e-b8e1-44a3-aa7a-544416a95bfb",
   "metadata": {},
   "outputs": [],
   "source": [
    "# Chargement du dataset pour l'analyse\n",
    "\n",
    "twitter_archive_master = pd.read_csv(\"twitter_archive_master.csv\")\n",
    "dft = twitter_archive_master.copy()"
   ]
  },
  {
   "cell_type": "code",
   "execution_count": 3,
   "id": "01e40b49-bb73-40e6-83d4-f414f7009407",
   "metadata": {},
   "outputs": [
    {
     "name": "stdout",
     "output_type": "stream",
     "text": [
      "<class 'pandas.core.frame.DataFrame'>\n",
      "RangeIndex: 1318 entries, 0 to 1317\n",
      "Data columns (total 26 columns):\n",
      " #   Column                 Non-Null Count  Dtype  \n",
      "---  ------                 --------------  -----  \n",
      " 0   tweet_id               1318 non-null   int64  \n",
      " 1   in_reply_to_status_id  15 non-null     float64\n",
      " 2   in_reply_to_user_id    15 non-null     float64\n",
      " 3   timestamp              1318 non-null   object \n",
      " 4   text                   1318 non-null   object \n",
      " 5   expanded_urls          1318 non-null   object \n",
      " 6   rating_numerator       1318 non-null   float64\n",
      " 7   rating_denominator     1318 non-null   float64\n",
      " 8   name                   937 non-null    object \n",
      " 9   source_link            1318 non-null   object \n",
      " 10  source_text            1318 non-null   object \n",
      " 11  dog_etape              222 non-null    object \n",
      " 12  user_followers         1318 non-null   int64  \n",
      " 13  retweet                1318 non-null   int64  \n",
      " 14  favorite               1318 non-null   int64  \n",
      " 15  jpg_url                1318 non-null   object \n",
      " 16  img_num                1318 non-null   int64  \n",
      " 17  p1                     1318 non-null   object \n",
      " 18  p1_conf                1318 non-null   float64\n",
      " 19  p1_dog                 1318 non-null   bool   \n",
      " 20  p2                     1318 non-null   object \n",
      " 21  p2_conf                1318 non-null   float64\n",
      " 22  p2_dog                 1318 non-null   bool   \n",
      " 23  p3                     1318 non-null   object \n",
      " 24  p3_conf                1318 non-null   float64\n",
      " 25  p3_dog                 1318 non-null   bool   \n",
      "dtypes: bool(3), float64(7), int64(5), object(11)\n",
      "memory usage: 240.8+ KB\n"
     ]
    }
   ],
   "source": [
    "dft.info()"
   ]
  },
  {
   "cell_type": "code",
   "execution_count": 4,
   "id": "9547e986-2d40-479e-a320-393defefd740",
   "metadata": {},
   "outputs": [
    {
     "data": {
      "text/plain": [
       "Text(0.5, 1.0, 'Visualisation de source_text')"
      ]
     },
     "execution_count": 4,
     "metadata": {},
     "output_type": "execute_result"
    },
    {
     "data": {
      "image/png": "[encoded data removed]",
      "text/plain": [
       "<Figure size 1080x504 with 1 Axes>"
      ]
     },
     "metadata": {},
     "output_type": "display_data"
    }
   ],
   "source": [
    "plt.figure(figsize=(15, 7), facecolor=\"white\")\n",
    "dft.source_text.value_counts().plot(kind=\"bar\")\n",
    "plt.xlabel(\"Source Text\")\n",
    "plt.ylabel(\"Effectif\")\n",
    "plt.title(\"Visualisation de source_text\")"
   ]
  },
  {
   "cell_type": "markdown",
   "id": "fa85e186-c8a2-413e-a989-112d4182a2e1",
   "metadata": {},
   "source": [
    "#### Interprétation\n",
    "\n",
    "L'analyse de source_text contient majoritairement twitter for iphone soit 98.05% et en minoritairement Twitter Web Client 1.41% et 0.54% TweetDeck. La représentation ci-dessus nous donne une visuelle sur les différentes proportions."
   ]
  },
  {
   "cell_type": "code",
   "execution_count": 5,
   "id": "2ce99d8d-0624-470f-b238-14030baf7335",
   "metadata": {},
   "outputs": [],
   "source": [
    "dft.timestamp = dft.timestamp.astype(\"datetime64\")"
   ]
  },
  {
   "cell_type": "code",
   "execution_count": 6,
   "id": "faaef4f0-ad78-47e9-97c9-cd07731fcce0",
   "metadata": {},
   "outputs": [],
   "source": [
    "dft[\"Year\"] = dft.timestamp.dt.year"
   ]
  },
  {
   "cell_type": "code",
   "execution_count": 7,
   "id": "3687131d-bc62-4701-a9da-799ac1ed8d29",
   "metadata": {},
   "outputs": [
    {
     "data": {
      "text/plain": [
       "2016    50.151745\n",
       "2015    34.066768\n",
       "2017    15.781487\n",
       "Name: Year, dtype: float64"
      ]
     },
     "execution_count": 7,
     "metadata": {},
     "output_type": "execute_result"
    }
   ],
   "source": [
    "100 * dft.Year.value_counts()/dft.Year.shape[0]"
   ]
  },
  {
   "cell_type": "code",
   "execution_count": 8,
   "id": "30ff42db-7c6a-4ee3-9277-e0d29115ec1a",
   "metadata": {},
   "outputs": [
    {
     "data": {
      "text/plain": [
       "Text(0.5, 0, 'Year')"
      ]
     },
     "execution_count": 8,
     "metadata": {},
     "output_type": "execute_result"
    },
    {
     "data": {
      "image/png": "[encoded data removed]",
      "text/plain": [
       "<Figure size 864x432 with 1 Axes>"
      ]
     },
     "metadata": {
      "needs_background": "light"
     },
     "output_type": "display_data"
    }
   ],
   "source": [
    "plt.figure(figsize=(12, 6))\n",
    "dft.Year.value_counts().plot(kind=\"bar\")\n",
    "plt.title(\"Visualisation de Year\")\n",
    "plt.ylabel(\"Effectif\")\n",
    "plt.xlabel(\"Year\")"
   ]
  },
  {
   "cell_type": "markdown",
   "id": "4b928c6f-1b62-46b3-9f2f-bd7682c26d89",
   "metadata": {},
   "source": [
    "#### Interprétation\n",
    "\n",
    "L'analyse de la variable Year, montre que notre dataset contient beaucoup plus de tweet en 2016 soit 48.74% sur l'effectif total. Ensuite, 32.83% pour l'année 2015 et 18.43% pour l'année 2017. Ces résultats sont perceptibles dans la figure ci-dessous sous forme de diagramme en bar."
   ]
  },
  {
   "cell_type": "code",
   "execution_count": 9,
   "id": "311915c4-82ba-484d-9a1f-43fe02b71970",
   "metadata": {},
   "outputs": [
    {
     "name": "stdout",
     "output_type": "stream",
     "text": [
      "<class 'pandas.core.frame.DataFrame'>\n",
      "RangeIndex: 1318 entries, 0 to 1317\n",
      "Data columns (total 27 columns):\n",
      " #   Column                 Non-Null Count  Dtype         \n",
      "---  ------                 --------------  -----         \n",
      " 0   tweet_id               1318 non-null   int64         \n",
      " 1   in_reply_to_status_id  15 non-null     float64       \n",
      " 2   in_reply_to_user_id    15 non-null     float64       \n",
      " 3   timestamp              1318 non-null   datetime64[ns]\n",
      " 4   text                   1318 non-null   object        \n",
      " 5   expanded_urls          1318 non-null   object        \n",
      " 6   rating_numerator       1318 non-null   float64       \n",
      " 7   rating_denominator     1318 non-null   float64       \n",
      " 8   name                   937 non-null    object        \n",
      " 9   source_link            1318 non-null   object        \n",
      " 10  source_text            1318 non-null   object        \n",
      " 11  dog_etape              222 non-null    object        \n",
      " 12  user_followers         1318 non-null   int64         \n",
      " 13  retweet                1318 non-null   int64         \n",
      " 14  favorite               1318 non-null   int64         \n",
      " 15  jpg_url                1318 non-null   object        \n",
      " 16  img_num                1318 non-null   int64         \n",
      " 17  p1                     1318 non-null   object        \n",
      " 18  p1_conf                1318 non-null   float64       \n",
      " 19  p1_dog                 1318 non-null   bool          \n",
      " 20  p2                     1318 non-null   object        \n",
      " 21  p2_conf                1318 non-null   float64       \n",
      " 22  p2_dog                 1318 non-null   bool          \n",
      " 23  p3                     1318 non-null   object        \n",
      " 24  p3_conf                1318 non-null   float64       \n",
      " 25  p3_dog                 1318 non-null   bool          \n",
      " 26  Year                   1318 non-null   int64         \n",
      "dtypes: bool(3), datetime64[ns](1), float64(7), int64(6), object(10)\n",
      "memory usage: 251.1+ KB\n"
     ]
    }
   ],
   "source": [
    "dft.info()"
   ]
  },
  {
   "cell_type": "code",
   "execution_count": 10,
   "id": "f6e512e8-69a9-48b5-aa66-df2804dffcee",
   "metadata": {},
   "outputs": [
    {
     "data": {
      "text/plain": [
       "Text(0.5, 1.0, 'Visualisation de user_followers')"
      ]
     },
     "execution_count": 10,
     "metadata": {},
     "output_type": "execute_result"
    },
    {
     "data": {
      "image/png": "[encoded data removed]",
      "text/plain": [
       "<Figure size 864x432 with 1 Axes>"
      ]
     },
     "metadata": {
      "needs_background": "light"
     },
     "output_type": "display_data"
    }
   ],
   "source": [
    "plt.figure(figsize=(12, 6))\n",
    "dft.user_followers.plot()\n",
    "plt.xlabel(\"user_followers indexes\")\n",
    "plt.ylabel(\"user_followers\")\n",
    "plt.title(\"Visualisation de user_followers\")"
   ]
  },
  {
   "cell_type": "code",
   "execution_count": 11,
   "id": "0f5fcbdb-de7c-4f89-a39f-87fd36b863a4",
   "metadata": {
    "tags": []
   },
   "outputs": [
    {
     "data": {
      "text/plain": [
       "0        4328\n",
       "1        8964\n",
       "2        9774\n",
       "3        3261\n",
       "4       16716\n",
       "        ...  \n",
       "1313       61\n",
       "1314      146\n",
       "1315      879\n",
       "1316      147\n",
       "1317       48\n",
       "Name: retweet, Length: 1318, dtype: int64"
      ]
     },
     "execution_count": 11,
     "metadata": {},
     "output_type": "execute_result"
    }
   ],
   "source": [
    "dft.retweet"
   ]
  },
  {
   "cell_type": "code",
   "execution_count": 12,
   "id": "90052c1b-86ca-49b5-a03f-13000d4f6058",
   "metadata": {},
   "outputs": [
    {
     "data": {
      "text/plain": [
       "Text(0.5, 1.0, 'Visualisation de retweet')"
      ]
     },
     "execution_count": 12,
     "metadata": {},
     "output_type": "execute_result"
    },
    {
     "data": {
      "image/png": "[encoded data removed]",
      "text/plain": [
       "<Figure size 864x432 with 1 Axes>"
      ]
     },
     "metadata": {
      "needs_background": "light"
     },
     "output_type": "display_data"
    }
   ],
   "source": [
    "plt.figure(figsize=(12, 6))\n",
    "dft.retweet.plot()\n",
    "plt.xlabel(\"retweet indexes\")\n",
    "plt.ylabel(\"retweet\")\n",
    "plt.title(\"Visualisation de retweet\")"
   ]
  },
  {
   "cell_type": "markdown",
   "id": "c4344577-ecc6-4ccc-8f57-941d79a80df4",
   "metadata": {},
   "source": [
    "#### Interprétation\n",
    "\n",
    "L'analyse de la variable retweet nous montre que majoritairement les retweets sont inférieurs à 3000 et moins de retweets sont supérieur à 3000."
   ]
  },
  {
   "cell_type": "code",
   "execution_count": 13,
   "id": "1664d087-6e18-4c17-a30f-a170c57e2536",
   "metadata": {},
   "outputs": [
    {
     "data": {
      "text/plain": [
       "Text(0.5, 1.0, 'Visualisation de rating_numerator')"
      ]
     },
     "execution_count": 13,
     "metadata": {},
     "output_type": "execute_result"
    },
    {
     "data": {
      "image/png": "[encoded data removed]",
      "text/plain": [
       "<Figure size 864x432 with 1 Axes>"
      ]
     },
     "metadata": {
      "needs_background": "light"
     },
     "output_type": "display_data"
    }
   ],
   "source": [
    "plt.figure(figsize=(12, 6))\n",
    "dft.rating_numerator.value_counts().plot(kind=\"bar\")\n",
    "plt.xlabel(\"rating_numerator\")\n",
    "plt.ylabel(\"effectif\")\n",
    "plt.title(\"Visualisation de rating_numerator\")"
   ]
  },
  {
   "cell_type": "code",
   "execution_count": 14,
   "id": "714c39e4-809e-48e8-b226-766b47d70ddd",
   "metadata": {},
   "outputs": [
    {
     "data": {
      "text/plain": [
       "Text(0.5, 1.0, 'Visualisation de rating_denominator')"
      ]
     },
     "execution_count": 14,
     "metadata": {},
     "output_type": "execute_result"
    },
    {
     "data": {
      "image/png": "[encoded data removed]",
      "text/plain": [
       "<Figure size 864x432 with 1 Axes>"
      ]
     },
     "metadata": {
      "needs_background": "light"
     },
     "output_type": "display_data"
    }
   ],
   "source": [
    "plt.figure(figsize=(12, 6))\n",
    "dft.rating_denominator.value_counts().plot(kind=\"bar\")\n",
    "plt.xlabel(\"Rating denominator\")\n",
    "plt.ylabel(\"Effectif\")\n",
    "plt.title(\"Visualisation de rating_denominator\")"
   ]
  },
  {
   "cell_type": "markdown",
   "id": "4ccfe78a-7a44-4035-9ba0-a7866a1a87e1",
   "metadata": {},
   "source": [
    "#### 1. Le nombre de retweet permet-elle beaucoup de favorie ?"
   ]
  },
  {
   "cell_type": "code",
   "execution_count": 15,
   "id": "74d233e6-0abe-4afc-af67-107765cdf655",
   "metadata": {},
   "outputs": [
    {
     "data": {
      "text/html": [
       "<div>\n",
       "<style scoped>\n",
       "    .dataframe tbody tr th:only-of-type {\n",
       "        vertical-align: middle;\n",
       "    }\n",
       "\n",
       "    .dataframe tbody tr th {\n",
       "        vertical-align: top;\n",
       "    }\n",
       "\n",
       "    .dataframe thead th {\n",
       "        text-align: right;\n",
       "    }\n",
       "</style>\n",
       "<table border=\"1\" class=\"dataframe\">\n",
       "  <thead>\n",
       "    <tr style=\"text-align: right;\">\n",
       "      <th></th>\n",
       "      <th>retweet</th>\n",
       "      <th>favorite</th>\n",
       "    </tr>\n",
       "  </thead>\n",
       "  <tbody>\n",
       "    <tr>\n",
       "      <th>0</th>\n",
       "      <td>4328</td>\n",
       "      <td>25461</td>\n",
       "    </tr>\n",
       "    <tr>\n",
       "      <th>1</th>\n",
       "      <td>8964</td>\n",
       "      <td>42908</td>\n",
       "    </tr>\n",
       "    <tr>\n",
       "      <th>2</th>\n",
       "      <td>9774</td>\n",
       "      <td>41048</td>\n",
       "    </tr>\n",
       "    <tr>\n",
       "      <th>3</th>\n",
       "      <td>3261</td>\n",
       "      <td>20562</td>\n",
       "    </tr>\n",
       "    <tr>\n",
       "      <th>4</th>\n",
       "      <td>16716</td>\n",
       "      <td>56848</td>\n",
       "    </tr>\n",
       "    <tr>\n",
       "      <th>...</th>\n",
       "      <td>...</td>\n",
       "      <td>...</td>\n",
       "    </tr>\n",
       "    <tr>\n",
       "      <th>1313</th>\n",
       "      <td>61</td>\n",
       "      <td>115</td>\n",
       "    </tr>\n",
       "    <tr>\n",
       "      <th>1314</th>\n",
       "      <td>146</td>\n",
       "      <td>304</td>\n",
       "    </tr>\n",
       "    <tr>\n",
       "      <th>1315</th>\n",
       "      <td>879</td>\n",
       "      <td>1253</td>\n",
       "    </tr>\n",
       "    <tr>\n",
       "      <th>1316</th>\n",
       "      <td>147</td>\n",
       "      <td>311</td>\n",
       "    </tr>\n",
       "    <tr>\n",
       "      <th>1317</th>\n",
       "      <td>48</td>\n",
       "      <td>132</td>\n",
       "    </tr>\n",
       "  </tbody>\n",
       "</table>\n",
       "<p>1318 rows × 2 columns</p>\n",
       "</div>"
      ],
      "text/plain": [
       "      retweet  favorite\n",
       "0        4328     25461\n",
       "1        8964     42908\n",
       "2        9774     41048\n",
       "3        3261     20562\n",
       "4       16716     56848\n",
       "...       ...       ...\n",
       "1313       61       115\n",
       "1314      146       304\n",
       "1315      879      1253\n",
       "1316      147       311\n",
       "1317       48       132\n",
       "\n",
       "[1318 rows x 2 columns]"
      ]
     },
     "execution_count": 15,
     "metadata": {},
     "output_type": "execute_result"
    }
   ],
   "source": [
    "dft[[\"retweet\",\"favorite\"]]"
   ]
  },
  {
   "cell_type": "code",
   "execution_count": 16,
   "id": "8ecadc1d-c9c3-417c-aead-34346fc64a50",
   "metadata": {},
   "outputs": [
    {
     "data": {
      "text/html": [
       "<div>\n",
       "<style scoped>\n",
       "    .dataframe tbody tr th:only-of-type {\n",
       "        vertical-align: middle;\n",
       "    }\n",
       "\n",
       "    .dataframe tbody tr th {\n",
       "        vertical-align: top;\n",
       "    }\n",
       "\n",
       "    .dataframe thead th {\n",
       "        text-align: right;\n",
       "    }\n",
       "</style>\n",
       "<table border=\"1\" class=\"dataframe\">\n",
       "  <thead>\n",
       "    <tr style=\"text-align: right;\">\n",
       "      <th></th>\n",
       "      <th>retweet</th>\n",
       "      <th>favorite</th>\n",
       "    </tr>\n",
       "  </thead>\n",
       "  <tbody>\n",
       "    <tr>\n",
       "      <th>count</th>\n",
       "      <td>1318.000000</td>\n",
       "      <td>1318.000000</td>\n",
       "    </tr>\n",
       "    <tr>\n",
       "      <th>mean</th>\n",
       "      <td>2640.047800</td>\n",
       "      <td>8508.734446</td>\n",
       "    </tr>\n",
       "    <tr>\n",
       "      <th>std</th>\n",
       "      <td>4086.913481</td>\n",
       "      <td>11340.792013</td>\n",
       "    </tr>\n",
       "    <tr>\n",
       "      <th>min</th>\n",
       "      <td>16.000000</td>\n",
       "      <td>81.000000</td>\n",
       "    </tr>\n",
       "    <tr>\n",
       "      <th>25%</th>\n",
       "      <td>609.250000</td>\n",
       "      <td>1790.000000</td>\n",
       "    </tr>\n",
       "    <tr>\n",
       "      <th>50%</th>\n",
       "      <td>1321.000000</td>\n",
       "      <td>4007.000000</td>\n",
       "    </tr>\n",
       "    <tr>\n",
       "      <th>75%</th>\n",
       "      <td>3129.000000</td>\n",
       "      <td>10508.250000</td>\n",
       "    </tr>\n",
       "    <tr>\n",
       "      <th>max</th>\n",
       "      <td>56625.000000</td>\n",
       "      <td>107015.000000</td>\n",
       "    </tr>\n",
       "  </tbody>\n",
       "</table>\n",
       "</div>"
      ],
      "text/plain": [
       "            retweet       favorite\n",
       "count   1318.000000    1318.000000\n",
       "mean    2640.047800    8508.734446\n",
       "std     4086.913481   11340.792013\n",
       "min       16.000000      81.000000\n",
       "25%      609.250000    1790.000000\n",
       "50%     1321.000000    4007.000000\n",
       "75%     3129.000000   10508.250000\n",
       "max    56625.000000  107015.000000"
      ]
     },
     "execution_count": 16,
     "metadata": {},
     "output_type": "execute_result"
    }
   ],
   "source": [
    "dft[[\"retweet\",\"favorite\"]].describe()"
   ]
  },
  {
   "cell_type": "code",
   "execution_count": 17,
   "id": "cd565910-2390-4a32-b0b9-3b9c82cc7ca7",
   "metadata": {},
   "outputs": [
    {
     "data": {
      "text/html": [
       "<div>\n",
       "<style scoped>\n",
       "    .dataframe tbody tr th:only-of-type {\n",
       "        vertical-align: middle;\n",
       "    }\n",
       "\n",
       "    .dataframe tbody tr th {\n",
       "        vertical-align: top;\n",
       "    }\n",
       "\n",
       "    .dataframe thead th {\n",
       "        text-align: right;\n",
       "    }\n",
       "</style>\n",
       "<table border=\"1\" class=\"dataframe\">\n",
       "  <thead>\n",
       "    <tr style=\"text-align: right;\">\n",
       "      <th></th>\n",
       "      <th>retweet</th>\n",
       "      <th>favorite</th>\n",
       "    </tr>\n",
       "  </thead>\n",
       "  <tbody>\n",
       "    <tr>\n",
       "      <th>retweet</th>\n",
       "      <td>1.000000</td>\n",
       "      <td>0.919269</td>\n",
       "    </tr>\n",
       "    <tr>\n",
       "      <th>favorite</th>\n",
       "      <td>0.919269</td>\n",
       "      <td>1.000000</td>\n",
       "    </tr>\n",
       "  </tbody>\n",
       "</table>\n",
       "</div>"
      ],
      "text/plain": [
       "           retweet  favorite\n",
       "retweet   1.000000  0.919269\n",
       "favorite  0.919269  1.000000"
      ]
     },
     "execution_count": 17,
     "metadata": {},
     "output_type": "execute_result"
    }
   ],
   "source": [
    "dft[[\"retweet\",\"favorite\"]].corr()"
   ]
  },
  {
   "cell_type": "code",
   "execution_count": 18,
   "id": "0a5017ed-1e1e-4842-9249-c93bc3c34f34",
   "metadata": {},
   "outputs": [
    {
     "data": {
      "text/html": [
       "<div>\n",
       "<style scoped>\n",
       "    .dataframe tbody tr th:only-of-type {\n",
       "        vertical-align: middle;\n",
       "    }\n",
       "\n",
       "    .dataframe tbody tr th {\n",
       "        vertical-align: top;\n",
       "    }\n",
       "\n",
       "    .dataframe thead th {\n",
       "        text-align: right;\n",
       "    }\n",
       "</style>\n",
       "<table border=\"1\" class=\"dataframe\">\n",
       "  <thead>\n",
       "    <tr style=\"text-align: right;\">\n",
       "      <th></th>\n",
       "      <th>retweet</th>\n",
       "      <th>favorite</th>\n",
       "    </tr>\n",
       "  </thead>\n",
       "  <tbody>\n",
       "    <tr>\n",
       "      <th>retweet</th>\n",
       "      <td>1.000000</td>\n",
       "      <td>0.845055</td>\n",
       "    </tr>\n",
       "    <tr>\n",
       "      <th>favorite</th>\n",
       "      <td>0.845055</td>\n",
       "      <td>1.000000</td>\n",
       "    </tr>\n",
       "  </tbody>\n",
       "</table>\n",
       "</div>"
      ],
      "text/plain": [
       "           retweet  favorite\n",
       "retweet   1.000000  0.845055\n",
       "favorite  0.845055  1.000000"
      ]
     },
     "execution_count": 18,
     "metadata": {},
     "output_type": "execute_result"
    }
   ],
   "source": [
    "dft[[\"retweet\",\"favorite\"]].corr() ** 2"
   ]
  },
  {
   "cell_type": "code",
   "execution_count": 19,
   "id": "ec661150-ee01-49fc-b623-6dad7d30ebea",
   "metadata": {
    "tags": []
   },
   "outputs": [
    {
     "data": {
      "text/plain": [
       "Text(0.5, 1.0, 'Visualisation des favorites en fonction des retweets')"
      ]
     },
     "execution_count": 19,
     "metadata": {},
     "output_type": "execute_result"
    },
    {
     "data": {
      "image/png": "[encoded data removed]",
      "text/plain": [
       "<Figure size 864x432 with 1 Axes>"
      ]
     },
     "metadata": {
      "needs_background": "light"
     },
     "output_type": "display_data"
    }
   ],
   "source": [
    "plt.figure(figsize=(12, 6))\n",
    "sns.scatterplot(x=\"favorite\", y=\"retweet\", data=dft)\n",
    "plt.xlabel(\"Favorite\")\n",
    "plt.ylabel(\"Retweet\")\n",
    "plt.title(\"Visualisation des favorites en fonction des retweets\")                                                                                "
   ]
  },
  {
   "cell_type": "markdown",
   "id": "ee5dab19-c668-4069-a21b-8ee16602d7d7",
   "metadata": {},
   "source": [
    "#### Interprétation\n",
    "L'étude de la variable retweet et favorite nous révèle qu'il y'a une forte corrélation entre c'est deux variables. Le coefficient de corrélation est de 91.93%. En effet si nous avons en moyenne 1316 retweet alors nous pouvons avoir en moyenne 3999 favorite. En plus l'étude de la variation, nous montre que 83.52% des variations de favorite sont causés par les retweets. La représentation graphique de retweet et favorite, nous permettre d'effectuer une représentation visuelle de la corrélation entre c'est deux variables."
   ]
  },
  {
   "cell_type": "markdown",
   "id": "840fc380-88ce-425e-a5f3-d14d7f79bfd5",
   "metadata": {},
   "source": [
    "#### 2. Est-ce que le nombre de user_followers augment le nombre de favorie?  "
   ]
  },
  {
   "cell_type": "code",
   "execution_count": 20,
   "id": "b8f24ccf-0ff8-4794-8eb3-4072af74c1b7",
   "metadata": {},
   "outputs": [
    {
     "data": {
      "text/html": [
       "<div>\n",
       "<style scoped>\n",
       "    .dataframe tbody tr th:only-of-type {\n",
       "        vertical-align: middle;\n",
       "    }\n",
       "\n",
       "    .dataframe tbody tr th {\n",
       "        vertical-align: top;\n",
       "    }\n",
       "\n",
       "    .dataframe thead th {\n",
       "        text-align: right;\n",
       "    }\n",
       "</style>\n",
       "<table border=\"1\" class=\"dataframe\">\n",
       "  <thead>\n",
       "    <tr style=\"text-align: right;\">\n",
       "      <th></th>\n",
       "      <th>user_followers</th>\n",
       "      <th>favorite</th>\n",
       "    </tr>\n",
       "  </thead>\n",
       "  <tbody>\n",
       "    <tr>\n",
       "      <th>0</th>\n",
       "      <td>3200889</td>\n",
       "      <td>25461</td>\n",
       "    </tr>\n",
       "    <tr>\n",
       "      <th>1</th>\n",
       "      <td>3200889</td>\n",
       "      <td>42908</td>\n",
       "    </tr>\n",
       "    <tr>\n",
       "      <th>2</th>\n",
       "      <td>3200889</td>\n",
       "      <td>41048</td>\n",
       "    </tr>\n",
       "    <tr>\n",
       "      <th>3</th>\n",
       "      <td>3200889</td>\n",
       "      <td>20562</td>\n",
       "    </tr>\n",
       "    <tr>\n",
       "      <th>4</th>\n",
       "      <td>3200889</td>\n",
       "      <td>56848</td>\n",
       "    </tr>\n",
       "    <tr>\n",
       "      <th>...</th>\n",
       "      <td>...</td>\n",
       "      <td>...</td>\n",
       "    </tr>\n",
       "    <tr>\n",
       "      <th>1313</th>\n",
       "      <td>3201018</td>\n",
       "      <td>115</td>\n",
       "    </tr>\n",
       "    <tr>\n",
       "      <th>1314</th>\n",
       "      <td>3201018</td>\n",
       "      <td>304</td>\n",
       "    </tr>\n",
       "    <tr>\n",
       "      <th>1315</th>\n",
       "      <td>3201018</td>\n",
       "      <td>1253</td>\n",
       "    </tr>\n",
       "    <tr>\n",
       "      <th>1316</th>\n",
       "      <td>3201018</td>\n",
       "      <td>311</td>\n",
       "    </tr>\n",
       "    <tr>\n",
       "      <th>1317</th>\n",
       "      <td>3201018</td>\n",
       "      <td>132</td>\n",
       "    </tr>\n",
       "  </tbody>\n",
       "</table>\n",
       "<p>1318 rows × 2 columns</p>\n",
       "</div>"
      ],
      "text/plain": [
       "      user_followers  favorite\n",
       "0            3200889     25461\n",
       "1            3200889     42908\n",
       "2            3200889     41048\n",
       "3            3200889     20562\n",
       "4            3200889     56848\n",
       "...              ...       ...\n",
       "1313         3201018       115\n",
       "1314         3201018       304\n",
       "1315         3201018      1253\n",
       "1316         3201018       311\n",
       "1317         3201018       132\n",
       "\n",
       "[1318 rows x 2 columns]"
      ]
     },
     "execution_count": 20,
     "metadata": {},
     "output_type": "execute_result"
    }
   ],
   "source": [
    "dft[[\"user_followers\", \"favorite\"]]"
   ]
  },
  {
   "cell_type": "code",
   "execution_count": 21,
   "id": "93c8ff21-f10d-45cd-b7de-1f1d3e77f503",
   "metadata": {},
   "outputs": [
    {
     "data": {
      "text/html": [
       "<div>\n",
       "<style scoped>\n",
       "    .dataframe tbody tr th:only-of-type {\n",
       "        vertical-align: middle;\n",
       "    }\n",
       "\n",
       "    .dataframe tbody tr th {\n",
       "        vertical-align: top;\n",
       "    }\n",
       "\n",
       "    .dataframe thead th {\n",
       "        text-align: right;\n",
       "    }\n",
       "</style>\n",
       "<table border=\"1\" class=\"dataframe\">\n",
       "  <thead>\n",
       "    <tr style=\"text-align: right;\">\n",
       "      <th></th>\n",
       "      <th>user_followers</th>\n",
       "      <th>favorite</th>\n",
       "    </tr>\n",
       "  </thead>\n",
       "  <tbody>\n",
       "    <tr>\n",
       "      <th>count</th>\n",
       "      <td>1.318000e+03</td>\n",
       "      <td>1318.000000</td>\n",
       "    </tr>\n",
       "    <tr>\n",
       "      <th>mean</th>\n",
       "      <td>3.200948e+06</td>\n",
       "      <td>8508.734446</td>\n",
       "    </tr>\n",
       "    <tr>\n",
       "      <th>std</th>\n",
       "      <td>4.488499e+01</td>\n",
       "      <td>11340.792013</td>\n",
       "    </tr>\n",
       "    <tr>\n",
       "      <th>min</th>\n",
       "      <td>3.200800e+06</td>\n",
       "      <td>81.000000</td>\n",
       "    </tr>\n",
       "    <tr>\n",
       "      <th>25%</th>\n",
       "      <td>3.200901e+06</td>\n",
       "      <td>1790.000000</td>\n",
       "    </tr>\n",
       "    <tr>\n",
       "      <th>50%</th>\n",
       "      <td>3.200947e+06</td>\n",
       "      <td>4007.000000</td>\n",
       "    </tr>\n",
       "    <tr>\n",
       "      <th>75%</th>\n",
       "      <td>3.201003e+06</td>\n",
       "      <td>10508.250000</td>\n",
       "    </tr>\n",
       "    <tr>\n",
       "      <th>max</th>\n",
       "      <td>3.201018e+06</td>\n",
       "      <td>107015.000000</td>\n",
       "    </tr>\n",
       "  </tbody>\n",
       "</table>\n",
       "</div>"
      ],
      "text/plain": [
       "       user_followers       favorite\n",
       "count    1.318000e+03    1318.000000\n",
       "mean     3.200948e+06    8508.734446\n",
       "std      4.488499e+01   11340.792013\n",
       "min      3.200800e+06      81.000000\n",
       "25%      3.200901e+06    1790.000000\n",
       "50%      3.200947e+06    4007.000000\n",
       "75%      3.201003e+06   10508.250000\n",
       "max      3.201018e+06  107015.000000"
      ]
     },
     "execution_count": 21,
     "metadata": {},
     "output_type": "execute_result"
    }
   ],
   "source": [
    "dft[[\"user_followers\", \"favorite\"]].describe()"
   ]
  },
  {
   "cell_type": "code",
   "execution_count": 22,
   "id": "f75ce9d6-365e-417e-b643-4cbe2552d68f",
   "metadata": {},
   "outputs": [
    {
     "data": {
      "text/html": [
       "<div>\n",
       "<style scoped>\n",
       "    .dataframe tbody tr th:only-of-type {\n",
       "        vertical-align: middle;\n",
       "    }\n",
       "\n",
       "    .dataframe tbody tr th {\n",
       "        vertical-align: top;\n",
       "    }\n",
       "\n",
       "    .dataframe thead th {\n",
       "        text-align: right;\n",
       "    }\n",
       "</style>\n",
       "<table border=\"1\" class=\"dataframe\">\n",
       "  <thead>\n",
       "    <tr style=\"text-align: right;\">\n",
       "      <th></th>\n",
       "      <th>user_followers</th>\n",
       "      <th>favorite</th>\n",
       "    </tr>\n",
       "  </thead>\n",
       "  <tbody>\n",
       "    <tr>\n",
       "      <th>user_followers</th>\n",
       "      <td>1.000000</td>\n",
       "      <td>-0.565616</td>\n",
       "    </tr>\n",
       "    <tr>\n",
       "      <th>favorite</th>\n",
       "      <td>-0.565616</td>\n",
       "      <td>1.000000</td>\n",
       "    </tr>\n",
       "  </tbody>\n",
       "</table>\n",
       "</div>"
      ],
      "text/plain": [
       "                user_followers  favorite\n",
       "user_followers        1.000000 -0.565616\n",
       "favorite             -0.565616  1.000000"
      ]
     },
     "execution_count": 22,
     "metadata": {},
     "output_type": "execute_result"
    }
   ],
   "source": [
    "dft[[\"user_followers\", \"favorite\"]].corr()"
   ]
  },
  {
   "cell_type": "code",
   "execution_count": 23,
   "id": "2d469c43-af0b-4c81-b52d-bf1118fefd61",
   "metadata": {},
   "outputs": [
    {
     "data": {
      "text/html": [
       "<div>\n",
       "<style scoped>\n",
       "    .dataframe tbody tr th:only-of-type {\n",
       "        vertical-align: middle;\n",
       "    }\n",
       "\n",
       "    .dataframe tbody tr th {\n",
       "        vertical-align: top;\n",
       "    }\n",
       "\n",
       "    .dataframe thead th {\n",
       "        text-align: right;\n",
       "    }\n",
       "</style>\n",
       "<table border=\"1\" class=\"dataframe\">\n",
       "  <thead>\n",
       "    <tr style=\"text-align: right;\">\n",
       "      <th></th>\n",
       "      <th>user_followers</th>\n",
       "      <th>favorite</th>\n",
       "    </tr>\n",
       "  </thead>\n",
       "  <tbody>\n",
       "    <tr>\n",
       "      <th>user_followers</th>\n",
       "      <td>1.000000</td>\n",
       "      <td>0.319922</td>\n",
       "    </tr>\n",
       "    <tr>\n",
       "      <th>favorite</th>\n",
       "      <td>0.319922</td>\n",
       "      <td>1.000000</td>\n",
       "    </tr>\n",
       "  </tbody>\n",
       "</table>\n",
       "</div>"
      ],
      "text/plain": [
       "                user_followers  favorite\n",
       "user_followers        1.000000  0.319922\n",
       "favorite              0.319922  1.000000"
      ]
     },
     "execution_count": 23,
     "metadata": {},
     "output_type": "execute_result"
    }
   ],
   "source": [
    "dft[[\"user_followers\", \"favorite\"]].corr() ** 2"
   ]
  },
  {
   "cell_type": "code",
   "execution_count": 24,
   "id": "1c4a980d-5ed6-45d1-a07f-36e63c5554fa",
   "metadata": {},
   "outputs": [
    {
     "data": {
      "text/plain": [
       "Text(0.5, 1.0, 'Visualisation des favorites en fonction des user followers')"
      ]
     },
     "execution_count": 24,
     "metadata": {},
     "output_type": "execute_result"
    },
    {
     "data": {
      "image/png": "[encoded data removed]",
      "text/plain": [
       "<Figure size 864x432 with 1 Axes>"
      ]
     },
     "metadata": {
      "needs_background": "light"
     },
     "output_type": "display_data"
    }
   ],
   "source": [
    "plt.figure(figsize=(12, 6))\n",
    "sns.scatterplot(x=\"user_followers\", y=\"favorite\", data=dft)\n",
    "plt.xlabel(\"User followers\")\n",
    "plt.ylabel(\"Favorite\")\n",
    "plt.title(\"Visualisation des favorites en fonction des user followers\")"
   ]
  },
  {
   "cell_type": "markdown",
   "id": "c289ab40-9aa3-41f6-89a1-d1b57fe38fdf",
   "metadata": {},
   "source": [
    "#### Interprétation\n",
    "\n",
    "L'analyse Bivariée entre la variable user_followers et favorite, nous montre qu'il y'a une corrélation positive mais trés faible entre ces deux variables. Ce qui nous permet de dire qu'il n'Ya pas de lien significatif entre le nombre followers et le nombre de 'j'aime' du tweet. La figure ci-dessus nous donne une meilleure visuelle de cette relation."
   ]
  },
  {
   "cell_type": "markdown",
   "id": "86a0e739-841c-4b8f-ad57-62c461612e7f",
   "metadata": {},
   "source": [
    "#### 3. Quelle année l'auteur compte le plus de favorite(j'aime)?"
   ]
  },
  {
   "cell_type": "code",
   "execution_count": 25,
   "id": "82c6d8a0-cd69-41ea-ac9b-55e74894e017",
   "metadata": {},
   "outputs": [
    {
     "data": {
      "text/plain": [
       "array([2017, 2016, 2015], dtype=int64)"
      ]
     },
     "execution_count": 25,
     "metadata": {},
     "output_type": "execute_result"
    }
   ],
   "source": [
    "dft.Year.unique()"
   ]
  },
  {
   "cell_type": "code",
   "execution_count": 26,
   "id": "9b05351f-f3b2-4881-9d25-4af5f9f887f8",
   "metadata": {},
   "outputs": [],
   "source": [
    "dft_17 = dft.query(\"Year==2017\")\n",
    "dft_16 = dft.query(\"Year==2016\")\n",
    "dft_15 = dft.query(\"Year==2015\")"
   ]
  },
  {
   "cell_type": "code",
   "execution_count": 27,
   "id": "8d86a759-ab74-4c9b-9beb-04b6d3188b79",
   "metadata": {},
   "outputs": [
    {
     "data": {
      "text/html": [
       "<div>\n",
       "<style scoped>\n",
       "    .dataframe tbody tr th:only-of-type {\n",
       "        vertical-align: middle;\n",
       "    }\n",
       "\n",
       "    .dataframe tbody tr th {\n",
       "        vertical-align: top;\n",
       "    }\n",
       "\n",
       "    .dataframe thead th {\n",
       "        text-align: right;\n",
       "    }\n",
       "</style>\n",
       "<table border=\"1\" class=\"dataframe\">\n",
       "  <thead>\n",
       "    <tr style=\"text-align: right;\">\n",
       "      <th></th>\n",
       "      <th>favorite</th>\n",
       "      <th>retweet</th>\n",
       "    </tr>\n",
       "  </thead>\n",
       "  <tbody>\n",
       "    <tr>\n",
       "      <th>count</th>\n",
       "      <td>208.000000</td>\n",
       "      <td>208.000000</td>\n",
       "    </tr>\n",
       "    <tr>\n",
       "      <th>mean</th>\n",
       "      <td>24031.692308</td>\n",
       "      <td>5894.480769</td>\n",
       "    </tr>\n",
       "    <tr>\n",
       "      <th>std</th>\n",
       "      <td>14292.933243</td>\n",
       "      <td>5119.884134</td>\n",
       "    </tr>\n",
       "    <tr>\n",
       "      <th>min</th>\n",
       "      <td>3706.000000</td>\n",
       "      <td>648.000000</td>\n",
       "    </tr>\n",
       "    <tr>\n",
       "      <th>25%</th>\n",
       "      <td>14358.250000</td>\n",
       "      <td>2900.000000</td>\n",
       "    </tr>\n",
       "    <tr>\n",
       "      <th>50%</th>\n",
       "      <td>21118.500000</td>\n",
       "      <td>4356.500000</td>\n",
       "    </tr>\n",
       "    <tr>\n",
       "      <th>75%</th>\n",
       "      <td>28505.500000</td>\n",
       "      <td>6551.500000</td>\n",
       "    </tr>\n",
       "    <tr>\n",
       "      <th>max</th>\n",
       "      <td>95450.000000</td>\n",
       "      <td>42228.000000</td>\n",
       "    </tr>\n",
       "  </tbody>\n",
       "</table>\n",
       "</div>"
      ],
      "text/plain": [
       "           favorite       retweet\n",
       "count    208.000000    208.000000\n",
       "mean   24031.692308   5894.480769\n",
       "std    14292.933243   5119.884134\n",
       "min     3706.000000    648.000000\n",
       "25%    14358.250000   2900.000000\n",
       "50%    21118.500000   4356.500000\n",
       "75%    28505.500000   6551.500000\n",
       "max    95450.000000  42228.000000"
      ]
     },
     "execution_count": 27,
     "metadata": {},
     "output_type": "execute_result"
    }
   ],
   "source": [
    "dft_17[[\"favorite\", \"retweet\"]].describe()"
   ]
  },
  {
   "cell_type": "code",
   "execution_count": 28,
   "id": "acea2f86-f83e-46f8-bf69-455fef3565ae",
   "metadata": {},
   "outputs": [
    {
     "data": {
      "text/html": [
       "<div>\n",
       "<style scoped>\n",
       "    .dataframe tbody tr th:only-of-type {\n",
       "        vertical-align: middle;\n",
       "    }\n",
       "\n",
       "    .dataframe tbody tr th {\n",
       "        vertical-align: top;\n",
       "    }\n",
       "\n",
       "    .dataframe thead th {\n",
       "        text-align: right;\n",
       "    }\n",
       "</style>\n",
       "<table border=\"1\" class=\"dataframe\">\n",
       "  <thead>\n",
       "    <tr style=\"text-align: right;\">\n",
       "      <th></th>\n",
       "      <th>favorite</th>\n",
       "      <th>retweet</th>\n",
       "    </tr>\n",
       "  </thead>\n",
       "  <tbody>\n",
       "    <tr>\n",
       "      <th>count</th>\n",
       "      <td>661.000000</td>\n",
       "      <td>661.000000</td>\n",
       "    </tr>\n",
       "    <tr>\n",
       "      <th>mean</th>\n",
       "      <td>7677.110439</td>\n",
       "      <td>2652.527988</td>\n",
       "    </tr>\n",
       "    <tr>\n",
       "      <th>std</th>\n",
       "      <td>8290.989688</td>\n",
       "      <td>3836.216088</td>\n",
       "    </tr>\n",
       "    <tr>\n",
       "      <th>min</th>\n",
       "      <td>732.000000</td>\n",
       "      <td>112.000000</td>\n",
       "    </tr>\n",
       "    <tr>\n",
       "      <th>25%</th>\n",
       "      <td>3131.000000</td>\n",
       "      <td>979.000000</td>\n",
       "    </tr>\n",
       "    <tr>\n",
       "      <th>50%</th>\n",
       "      <td>4945.000000</td>\n",
       "      <td>1540.000000</td>\n",
       "    </tr>\n",
       "    <tr>\n",
       "      <th>75%</th>\n",
       "      <td>9058.000000</td>\n",
       "      <td>2980.000000</td>\n",
       "    </tr>\n",
       "    <tr>\n",
       "      <th>max</th>\n",
       "      <td>107015.000000</td>\n",
       "      <td>56625.000000</td>\n",
       "    </tr>\n",
       "  </tbody>\n",
       "</table>\n",
       "</div>"
      ],
      "text/plain": [
       "            favorite       retweet\n",
       "count     661.000000    661.000000\n",
       "mean     7677.110439   2652.527988\n",
       "std      8290.989688   3836.216088\n",
       "min       732.000000    112.000000\n",
       "25%      3131.000000    979.000000\n",
       "50%      4945.000000   1540.000000\n",
       "75%      9058.000000   2980.000000\n",
       "max    107015.000000  56625.000000"
      ]
     },
     "execution_count": 28,
     "metadata": {},
     "output_type": "execute_result"
    }
   ],
   "source": [
    "dft_16[[\"favorite\", \"retweet\"]].describe()"
   ]
  },
  {
   "cell_type": "code",
   "execution_count": 29,
   "id": "e45c80dd-204c-42cd-8980-2d9892332a98",
   "metadata": {},
   "outputs": [
    {
     "data": {
      "text/html": [
       "<div>\n",
       "<style scoped>\n",
       "    .dataframe tbody tr th:only-of-type {\n",
       "        vertical-align: middle;\n",
       "    }\n",
       "\n",
       "    .dataframe tbody tr th {\n",
       "        vertical-align: top;\n",
       "    }\n",
       "\n",
       "    .dataframe thead th {\n",
       "        text-align: right;\n",
       "    }\n",
       "</style>\n",
       "<table border=\"1\" class=\"dataframe\">\n",
       "  <thead>\n",
       "    <tr style=\"text-align: right;\">\n",
       "      <th></th>\n",
       "      <th>favorite</th>\n",
       "      <th>retweet</th>\n",
       "    </tr>\n",
       "  </thead>\n",
       "  <tbody>\n",
       "    <tr>\n",
       "      <th>count</th>\n",
       "      <td>449.000000</td>\n",
       "      <td>449.000000</td>\n",
       "    </tr>\n",
       "    <tr>\n",
       "      <th>mean</th>\n",
       "      <td>2541.982183</td>\n",
       "      <td>1114.053452</td>\n",
       "    </tr>\n",
       "    <tr>\n",
       "      <th>std</th>\n",
       "      <td>5818.128370</td>\n",
       "      <td>2838.644371</td>\n",
       "    </tr>\n",
       "    <tr>\n",
       "      <th>min</th>\n",
       "      <td>81.000000</td>\n",
       "      <td>16.000000</td>\n",
       "    </tr>\n",
       "    <tr>\n",
       "      <th>25%</th>\n",
       "      <td>604.000000</td>\n",
       "      <td>234.000000</td>\n",
       "    </tr>\n",
       "    <tr>\n",
       "      <th>50%</th>\n",
       "      <td>1189.000000</td>\n",
       "      <td>452.000000</td>\n",
       "    </tr>\n",
       "    <tr>\n",
       "      <th>75%</th>\n",
       "      <td>2154.000000</td>\n",
       "      <td>897.000000</td>\n",
       "    </tr>\n",
       "    <tr>\n",
       "      <th>max</th>\n",
       "      <td>67100.000000</td>\n",
       "      <td>31989.000000</td>\n",
       "    </tr>\n",
       "  </tbody>\n",
       "</table>\n",
       "</div>"
      ],
      "text/plain": [
       "           favorite       retweet\n",
       "count    449.000000    449.000000\n",
       "mean    2541.982183   1114.053452\n",
       "std     5818.128370   2838.644371\n",
       "min       81.000000     16.000000\n",
       "25%      604.000000    234.000000\n",
       "50%     1189.000000    452.000000\n",
       "75%     2154.000000    897.000000\n",
       "max    67100.000000  31989.000000"
      ]
     },
     "execution_count": 29,
     "metadata": {},
     "output_type": "execute_result"
    }
   ],
   "source": [
    "dft_15[[\"favorite\", \"retweet\"]].describe()"
   ]
  },
  {
   "cell_type": "code",
   "execution_count": 30,
   "id": "809049f3-e2dd-4268-a666-12890aa21b13",
   "metadata": {},
   "outputs": [
    {
     "data": {
      "text/plain": [
       "Text(0.5, 1.0, \"Visualisation de l'évolution de favorite par année\")"
      ]
     },
     "execution_count": 30,
     "metadata": {},
     "output_type": "execute_result"
    },
    {
     "data": {
      "image/png": "[encoded data removed]",
      "text/plain": [
       "<Figure size 864x432 with 1 Axes>"
      ]
     },
     "metadata": {
      "needs_background": "light"
     },
     "output_type": "display_data"
    }
   ],
   "source": [
    "plt.figure(figsize=(12, 6))\n",
    "sns.scatterplot(data=dft, x=\"Year\", y=\"favorite\")\n",
    "plt.title(\"Visualisation de l'évolution de favorite par année\")"
   ]
  },
  {
   "cell_type": "code",
   "execution_count": 31,
   "id": "2f4b8b9f-5384-4e0d-8149-1d4d818e5e0a",
   "metadata": {},
   "outputs": [
    {
     "data": {
      "text/plain": [
       "<AxesSubplot:xlabel='Year', ylabel='retweet'>"
      ]
     },
     "execution_count": 31,
     "metadata": {},
     "output_type": "execute_result"
    },
    {
     "data": {
      "image/png": "[encoded data removed]",
      "text/plain": [
       "<Figure size 864x432 with 1 Axes>"
      ]
     },
     "metadata": {
      "needs_background": "light"
     },
     "output_type": "display_data"
    }
   ],
   "source": [
    "plt.figure(figsize=(12, 6))\n",
    "sns.scatterplot(data=dft, x=\"Year\", y=\"retweet\")"
   ]
  },
  {
   "cell_type": "markdown",
   "id": "b63b94f5-96ea-4af9-86f1-7554bd4fa2b2",
   "metadata": {},
   "source": [
    "#### Interprétation\n",
    "\n",
    "L'analyse bivariée entre la variable Year et favorite nous révèle que l'auteur à effectuer 379 tweets en 2017. Sur ces 379 tweet la plus faible 72 est tandis que la plus élevé est 132810 : soit en moyenne 20070. En outre en 2016 l'auteur a également publier 1002 tweets. Parmi ces tweets, nous avons constaté qu'une de ses tweets à remporter un score de 131075 favorites(j'aime). Nous remarquons en moyenne 4850 j'aime au cours de cette année. Également en 2015, l'auteur à publier 675 tweets qui à reçu en moyenne 1237 j'aime et donne le minimum étais 81 et le maximum est 671. La variable retweet nous permet de consolider nos dits étant donnée une corrélation très forte entre la variable retweet et favorite. Les représentations graphiques ci-dessus nous donnent une visuelle sur notre analyse en confirme nos dits."
   ]
  },
  {
   "cell_type": "markdown",
   "id": "3980259e-6046-4b7d-b1ff-3cedaf196ecc",
   "metadata": {},
   "source": [
    "#### 4. Quels sont les cinq chiens ayant reçu le plus de favorie(j'aime)  durant l'année 2017?  "
   ]
  },
  {
   "cell_type": "code",
   "execution_count": 32,
   "id": "0ba7112b-7f1a-4481-b4b3-6c19dd9fb07f",
   "metadata": {},
   "outputs": [
    {
     "data": {
      "text/html": [
       "<div>\n",
       "<style scoped>\n",
       "    .dataframe tbody tr th:only-of-type {\n",
       "        vertical-align: middle;\n",
       "    }\n",
       "\n",
       "    .dataframe tbody tr th {\n",
       "        vertical-align: top;\n",
       "    }\n",
       "\n",
       "    .dataframe thead th {\n",
       "        text-align: right;\n",
       "    }\n",
       "</style>\n",
       "<table border=\"1\" class=\"dataframe\">\n",
       "  <thead>\n",
       "    <tr style=\"text-align: right;\">\n",
       "      <th></th>\n",
       "      <th>tweet_id</th>\n",
       "      <th>in_reply_to_status_id</th>\n",
       "      <th>in_reply_to_user_id</th>\n",
       "      <th>timestamp</th>\n",
       "      <th>text</th>\n",
       "      <th>expanded_urls</th>\n",
       "      <th>rating_numerator</th>\n",
       "      <th>rating_denominator</th>\n",
       "      <th>name</th>\n",
       "      <th>source_link</th>\n",
       "      <th>...</th>\n",
       "      <th>p1</th>\n",
       "      <th>p1_conf</th>\n",
       "      <th>p1_dog</th>\n",
       "      <th>p2</th>\n",
       "      <th>p2_conf</th>\n",
       "      <th>p2_dog</th>\n",
       "      <th>p3</th>\n",
       "      <th>p3_conf</th>\n",
       "      <th>p3_dog</th>\n",
       "      <th>Year</th>\n",
       "    </tr>\n",
       "  </thead>\n",
       "  <tbody>\n",
       "    <tr>\n",
       "      <th>194</th>\n",
       "      <td>819004803107983360</td>\n",
       "      <td>NaN</td>\n",
       "      <td>NaN</td>\n",
       "      <td>2017-01-11 02:15:36</td>\n",
       "      <td>This is Bo. He was a very good First Doggo. 14...</td>\n",
       "      <td>https://twitter.com/dog_rates/status/819004803...</td>\n",
       "      <td>14.0</td>\n",
       "      <td>10.0</td>\n",
       "      <td>Bo</td>\n",
       "      <td>http://twitter.com/download/iphone</td>\n",
       "      <td>...</td>\n",
       "      <td>standard_poodle</td>\n",
       "      <td>0.351308</td>\n",
       "      <td>True</td>\n",
       "      <td>toy_poodle</td>\n",
       "      <td>0.271929</td>\n",
       "      <td>True</td>\n",
       "      <td>Tibetan_terrier</td>\n",
       "      <td>0.094759</td>\n",
       "      <td>True</td>\n",
       "      <td>2017</td>\n",
       "    </tr>\n",
       "    <tr>\n",
       "      <th>61</th>\n",
       "      <td>870374049280663552</td>\n",
       "      <td>NaN</td>\n",
       "      <td>NaN</td>\n",
       "      <td>2017-06-01 20:18:38</td>\n",
       "      <td>This is Zoey. She really likes the planet. Wou...</td>\n",
       "      <td>https://twitter.com/dog_rates/status/870374049...</td>\n",
       "      <td>13.0</td>\n",
       "      <td>10.0</td>\n",
       "      <td>Zoey</td>\n",
       "      <td>http://twitter.com/download/iphone</td>\n",
       "      <td>...</td>\n",
       "      <td>golden_retriever</td>\n",
       "      <td>0.841001</td>\n",
       "      <td>True</td>\n",
       "      <td>Great_Pyrenees</td>\n",
       "      <td>0.099278</td>\n",
       "      <td>True</td>\n",
       "      <td>Labrador_retriever</td>\n",
       "      <td>0.032621</td>\n",
       "      <td>True</td>\n",
       "      <td>2017</td>\n",
       "    </tr>\n",
       "    <tr>\n",
       "      <th>85</th>\n",
       "      <td>859196978902773760</td>\n",
       "      <td>NaN</td>\n",
       "      <td>NaN</td>\n",
       "      <td>2017-05-02 00:04:57</td>\n",
       "      <td>We only rate dogs. This is quite clearly a smo...</td>\n",
       "      <td>https://twitter.com/dog_rates/status/859196978...</td>\n",
       "      <td>12.0</td>\n",
       "      <td>10.0</td>\n",
       "      <td>quite</td>\n",
       "      <td>http://twitter.com/download/iphone</td>\n",
       "      <td>...</td>\n",
       "      <td>Angora</td>\n",
       "      <td>0.224218</td>\n",
       "      <td>False</td>\n",
       "      <td>malamute</td>\n",
       "      <td>0.216163</td>\n",
       "      <td>True</td>\n",
       "      <td>Persian_cat</td>\n",
       "      <td>0.128383</td>\n",
       "      <td>False</td>\n",
       "      <td>2017</td>\n",
       "    </tr>\n",
       "    <tr>\n",
       "      <th>158</th>\n",
       "      <td>830583320585068544</td>\n",
       "      <td>NaN</td>\n",
       "      <td>NaN</td>\n",
       "      <td>2017-02-12 01:04:29</td>\n",
       "      <td>This is Lilly. She just parallel barked. Kindl...</td>\n",
       "      <td>https://twitter.com/dog_rates/status/830583320...</td>\n",
       "      <td>13.0</td>\n",
       "      <td>10.0</td>\n",
       "      <td>Lilly</td>\n",
       "      <td>http://twitter.com/download/iphone</td>\n",
       "      <td>...</td>\n",
       "      <td>Labrador_retriever</td>\n",
       "      <td>0.908703</td>\n",
       "      <td>True</td>\n",
       "      <td>seat_belt</td>\n",
       "      <td>0.057091</td>\n",
       "      <td>False</td>\n",
       "      <td>pug</td>\n",
       "      <td>0.011933</td>\n",
       "      <td>True</td>\n",
       "      <td>2017</td>\n",
       "    </tr>\n",
       "    <tr>\n",
       "      <th>42</th>\n",
       "      <td>877736472329191424</td>\n",
       "      <td>NaN</td>\n",
       "      <td>NaN</td>\n",
       "      <td>2017-06-22 03:54:17</td>\n",
       "      <td>This is Aja. She was just told she's a good do...</td>\n",
       "      <td>https://twitter.com/dog_rates/status/877736472...</td>\n",
       "      <td>13.0</td>\n",
       "      <td>10.0</td>\n",
       "      <td>Aja</td>\n",
       "      <td>http://twitter.com/download/iphone</td>\n",
       "      <td>...</td>\n",
       "      <td>Chesapeake_Bay_retriever</td>\n",
       "      <td>0.837956</td>\n",
       "      <td>True</td>\n",
       "      <td>Labrador_retriever</td>\n",
       "      <td>0.062034</td>\n",
       "      <td>True</td>\n",
       "      <td>Weimaraner</td>\n",
       "      <td>0.040599</td>\n",
       "      <td>True</td>\n",
       "      <td>2017</td>\n",
       "    </tr>\n",
       "  </tbody>\n",
       "</table>\n",
       "<p>5 rows × 27 columns</p>\n",
       "</div>"
      ],
      "text/plain": [
       "               tweet_id  in_reply_to_status_id  in_reply_to_user_id  \\\n",
       "194  819004803107983360                    NaN                  NaN   \n",
       "61   870374049280663552                    NaN                  NaN   \n",
       "85   859196978902773760                    NaN                  NaN   \n",
       "158  830583320585068544                    NaN                  NaN   \n",
       "42   877736472329191424                    NaN                  NaN   \n",
       "\n",
       "              timestamp                                               text  \\\n",
       "194 2017-01-11 02:15:36  This is Bo. He was a very good First Doggo. 14...   \n",
       "61  2017-06-01 20:18:38  This is Zoey. She really likes the planet. Wou...   \n",
       "85  2017-05-02 00:04:57  We only rate dogs. This is quite clearly a smo...   \n",
       "158 2017-02-12 01:04:29  This is Lilly. She just parallel barked. Kindl...   \n",
       "42  2017-06-22 03:54:17  This is Aja. She was just told she's a good do...   \n",
       "\n",
       "                                         expanded_urls  rating_numerator  \\\n",
       "194  https://twitter.com/dog_rates/status/819004803...              14.0   \n",
       "61   https://twitter.com/dog_rates/status/870374049...              13.0   \n",
       "85   https://twitter.com/dog_rates/status/859196978...              12.0   \n",
       "158  https://twitter.com/dog_rates/status/830583320...              13.0   \n",
       "42   https://twitter.com/dog_rates/status/877736472...              13.0   \n",
       "\n",
       "     rating_denominator   name                         source_link  ...  \\\n",
       "194                10.0     Bo  http://twitter.com/download/iphone  ...   \n",
       "61                 10.0   Zoey  http://twitter.com/download/iphone  ...   \n",
       "85                 10.0  quite  http://twitter.com/download/iphone  ...   \n",
       "158                10.0  Lilly  http://twitter.com/download/iphone  ...   \n",
       "42                 10.0    Aja  http://twitter.com/download/iphone  ...   \n",
       "\n",
       "                           p1   p1_conf  p1_dog                  p2   p2_conf  \\\n",
       "194           standard_poodle  0.351308    True          toy_poodle  0.271929   \n",
       "61           golden_retriever  0.841001    True      Great_Pyrenees  0.099278   \n",
       "85                     Angora  0.224218   False            malamute  0.216163   \n",
       "158        Labrador_retriever  0.908703    True           seat_belt  0.057091   \n",
       "42   Chesapeake_Bay_retriever  0.837956    True  Labrador_retriever  0.062034   \n",
       "\n",
       "    p2_dog                  p3   p3_conf  p3_dog  Year  \n",
       "194   True     Tibetan_terrier  0.094759    True  2017  \n",
       "61    True  Labrador_retriever  0.032621    True  2017  \n",
       "85    True         Persian_cat  0.128383   False  2017  \n",
       "158  False                 pug  0.011933    True  2017  \n",
       "42    True          Weimaraner  0.040599    True  2017  \n",
       "\n",
       "[5 rows x 27 columns]"
      ]
     },
     "execution_count": 32,
     "metadata": {},
     "output_type": "execute_result"
    }
   ],
   "source": [
    "best_rating = dft_17.sort_values(by=\"favorite\",ascending=False).head()\n",
    "best_rating"
   ]
  },
  {
   "cell_type": "code",
   "execution_count": 33,
   "id": "06405e9b-3fde-48b5-8adc-91d428e5489e",
   "metadata": {},
   "outputs": [
    {
     "data": {
      "text/plain": [
       "Text(0.5, 1.0, 'Visualisation des cinq chiens avec les meuilleurs notes')"
      ]
     },
     "execution_count": 33,
     "metadata": {},
     "output_type": "execute_result"
    },
    {
     "data": {
      "image/png": "[encoded data removed]",
      "text/plain": [
       "<Figure size 864x432 with 1 Axes>"
      ]
     },
     "metadata": {
      "needs_background": "light"
     },
     "output_type": "display_data"
    }
   ],
   "source": [
    "plt.figure(figsize=(12, 6))\n",
    "best_rating.favorite.plot(kind=\"bar\")\n",
    "plt.xlabel(\"Favorite index\")\n",
    "plt.ylabel(\"Effectif\")\n",
    "plt.title(\"Visualisation des cinq chiens avec les meuilleurs notes\")"
   ]
  },
  {
   "cell_type": "markdown",
   "id": "7ec1a78b-3be6-4478-b092-178b1ed96350",
   "metadata": {},
   "source": [
    "#### Interprétation\n",
    "\n",
    "à l'issue de notre analyse, les cinq premiers chiens ayant reçu le plus de j'aime sont représentés par leur index et le nombre de favori:\n",
    "- 328 : 132810\n",
    "- 61 : 107956\n",
    "- 112 : 106827\n",
    "- 353 : 95450\n",
    "- 97 : 85011\n",
    "\n",
    "Ces résultats sont perceptibles sur la répresentation ci-dessus."
   ]
  },
  {
   "cell_type": "markdown",
   "id": "ac0415c3-d078-4bba-bbb4-575fe0ce5aa5",
   "metadata": {},
   "source": [
    "#### 5. Le nombre de retweet augmente-t-elle en fonction de l'année?   "
   ]
  },
  {
   "cell_type": "code",
   "execution_count": 34,
   "id": "9aa9ac4e-b89b-40b4-ba1a-5567168f75a1",
   "metadata": {},
   "outputs": [
    {
     "data": {
      "text/html": [
       "<div>\n",
       "<style scoped>\n",
       "    .dataframe tbody tr th:only-of-type {\n",
       "        vertical-align: middle;\n",
       "    }\n",
       "\n",
       "    .dataframe tbody tr th {\n",
       "        vertical-align: top;\n",
       "    }\n",
       "\n",
       "    .dataframe thead th {\n",
       "        text-align: right;\n",
       "    }\n",
       "</style>\n",
       "<table border=\"1\" class=\"dataframe\">\n",
       "  <thead>\n",
       "    <tr style=\"text-align: right;\">\n",
       "      <th></th>\n",
       "      <th>retweet</th>\n",
       "      <th>Year</th>\n",
       "    </tr>\n",
       "  </thead>\n",
       "  <tbody>\n",
       "    <tr>\n",
       "      <th>retweet</th>\n",
       "      <td>1.000000</td>\n",
       "      <td>0.370947</td>\n",
       "    </tr>\n",
       "    <tr>\n",
       "      <th>Year</th>\n",
       "      <td>0.370947</td>\n",
       "      <td>1.000000</td>\n",
       "    </tr>\n",
       "  </tbody>\n",
       "</table>\n",
       "</div>"
      ],
      "text/plain": [
       "          retweet      Year\n",
       "retweet  1.000000  0.370947\n",
       "Year     0.370947  1.000000"
      ]
     },
     "execution_count": 34,
     "metadata": {},
     "output_type": "execute_result"
    }
   ],
   "source": [
    "dft[[\"retweet\", \"Year\"]].corr()"
   ]
  },
  {
   "cell_type": "code",
   "execution_count": 35,
   "id": "2b7b4d86-2bd8-4bce-aadb-7ec0e487d1a3",
   "metadata": {},
   "outputs": [
    {
     "data": {
      "text/html": [
       "<div>\n",
       "<style scoped>\n",
       "    .dataframe tbody tr th:only-of-type {\n",
       "        vertical-align: middle;\n",
       "    }\n",
       "\n",
       "    .dataframe tbody tr th {\n",
       "        vertical-align: top;\n",
       "    }\n",
       "\n",
       "    .dataframe thead th {\n",
       "        text-align: right;\n",
       "    }\n",
       "</style>\n",
       "<table border=\"1\" class=\"dataframe\">\n",
       "  <thead>\n",
       "    <tr style=\"text-align: right;\">\n",
       "      <th></th>\n",
       "      <th>retweet</th>\n",
       "    </tr>\n",
       "  </thead>\n",
       "  <tbody>\n",
       "    <tr>\n",
       "      <th>count</th>\n",
       "      <td>1318.000000</td>\n",
       "    </tr>\n",
       "    <tr>\n",
       "      <th>mean</th>\n",
       "      <td>2640.047800</td>\n",
       "    </tr>\n",
       "    <tr>\n",
       "      <th>std</th>\n",
       "      <td>4086.913481</td>\n",
       "    </tr>\n",
       "    <tr>\n",
       "      <th>min</th>\n",
       "      <td>16.000000</td>\n",
       "    </tr>\n",
       "    <tr>\n",
       "      <th>25%</th>\n",
       "      <td>609.250000</td>\n",
       "    </tr>\n",
       "    <tr>\n",
       "      <th>50%</th>\n",
       "      <td>1321.000000</td>\n",
       "    </tr>\n",
       "    <tr>\n",
       "      <th>75%</th>\n",
       "      <td>3129.000000</td>\n",
       "    </tr>\n",
       "    <tr>\n",
       "      <th>max</th>\n",
       "      <td>56625.000000</td>\n",
       "    </tr>\n",
       "  </tbody>\n",
       "</table>\n",
       "</div>"
      ],
      "text/plain": [
       "            retweet\n",
       "count   1318.000000\n",
       "mean    2640.047800\n",
       "std     4086.913481\n",
       "min       16.000000\n",
       "25%      609.250000\n",
       "50%     1321.000000\n",
       "75%     3129.000000\n",
       "max    56625.000000"
      ]
     },
     "execution_count": 35,
     "metadata": {},
     "output_type": "execute_result"
    }
   ],
   "source": [
    "dft[[\"retweet\"]].describe()"
   ]
  },
  {
   "cell_type": "code",
   "execution_count": 36,
   "id": "0c311e5b-ae9c-47b5-aea4-bc5862119e15",
   "metadata": {},
   "outputs": [
    {
     "data": {
      "text/plain": [
       "Text(0.5, 1.0, 'Visualisation du nombre de retweet par année')"
      ]
     },
     "execution_count": 36,
     "metadata": {},
     "output_type": "execute_result"
    },
    {
     "data": {
      "image/png": "[encoded data removed]",
      "text/plain": [
       "<Figure size 864x432 with 1 Axes>"
      ]
     },
     "metadata": {
      "needs_background": "light"
     },
     "output_type": "display_data"
    }
   ],
   "source": [
    "plt.figure(figsize=(12, 6))\n",
    "sns.scatterplot(data=dft, y = \"retweet\", x = \"Year\")\n",
    "plt.title(\"Visualisation du nombre de retweet par année\")"
   ]
  },
  {
   "cell_type": "markdown",
   "id": "89f96f7a-c3a7-48eb-b064-c14dd5a81292",
   "metadata": {},
   "source": [
    "#### Interprétation\n",
    "\n",
    "L'analyse de la relation entre la variable Year et retweet montre qu'il y a une faible corrélation et positive entre ces variables soit un coefficient de 33.26%. Cette valeur nous montre que la variation de la date des tweets impact moins sur le nombre de retweets que l'utilisateur gagne à chaque tweet. Ce résultat est perceptible dans la figure ci-dessus."
   ]
  },
  {
   "cell_type": "markdown",
   "id": "e5f6bb99-1ab1-4493-8544-585ab2a014f5",
   "metadata": {},
   "source": [
    "Étape 3 : Conclusion\n",
    "1. À l’issue de notre analyse, nous remarquons que la variable retweet à une corrélation positive et très forte avec la variable favorite. Ce qui implique que plus un tweet est plus partage plus il reçoit beaucoup de favori (j’aime).\n",
    "2. Le nombre de followers de l'utilisateur ont trés peu d'influence sur le nombre de j'aime que l'utilisateur reçoit à chaque post. Cela est du à une corrélation trés faible et négatives entre la variable user_followers et favorite.\n",
    "3. L'analyse entre la variable Year et favorite nous montre que c'est en 2017 que l'auteur à reçu le plus de j'aime dans l'une de ces tweets. En effet en 2017 sur 379 tweets, un de ces tweets à comptabilisé 132810 tweets. En 2016, l'auteur a effectué 1002 tweets dont l'un deux à atteints 131075 favorites(j'aime). Et en 2015, il a publier 675, le record de j'aime était 671. Donc on constate que c'est en 2017 que l'auteur à reçu le plus de j'aime sur l'un de ses tweets.\n",
    "4. À l'issue de notre analyse, les cinq premiers chiens ayant reçu le plus de j'aime sont représentés par leur index et le nombre de favori: 328, 61, 112, 353, 97.\n",
    "5. L'analyse de la relation entre la variable Year et retweet montre qu'il y a une faible corrélation et positive entre ces variables soit un coefficient de 33.26%. Cette valeur nous montre que la variation de la date des tweets impact moins sur le nombre de retweets que l'utilisateur gagne à chaque tweet."
   ]
  }
 ],
 "metadata": {
  "kernelspec": {
   "display_name": "Python 3 (ipykernel)",
   "language": "python",
   "name": "python3"
  },
  "language_info": {
   "codemirror_mode": {
    "name": "ipython",
    "version": 3
   },
   "file_extension": ".py",
   "mimetype": "text/x-python",
   "name": "python",
   "nbconvert_exporter": "python",
   "pygments_lexer": "ipython3",
   "version": "3.10.6"
  }
 },
 "nbformat": 4,
 "nbformat_minor": 5
}
