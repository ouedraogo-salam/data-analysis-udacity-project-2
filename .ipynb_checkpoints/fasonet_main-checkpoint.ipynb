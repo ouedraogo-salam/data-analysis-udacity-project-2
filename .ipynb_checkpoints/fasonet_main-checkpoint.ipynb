{
 "cells": [
  {
   "cell_type": "code",
   "execution_count": 292,
   "id": "bfb0553f-c8db-4a99-9c01-2742f577207b",
   "metadata": {},
   "outputs": [],
   "source": [
    "import pandas as pd\n",
    "import requests \n",
    "from bs4 import BeautifulSoup as bsoup"
   ]
  },
  {
   "cell_type": "code",
   "execution_count": 343,
   "id": "e5af6ccb-3c86-4faf-a038-6f50cb5d1ecc",
   "metadata": {},
   "outputs": [],
   "source": [
    "def get_data_html(url=\"\"):\n",
    "    \n",
    "    req = requests.get(url)\n",
    "    soup = bsoup(req.content, 'html.parser')\n",
    "    comment_li = soup.find(\"li\", class_=\"comment-li\")\n",
    "    commentaire = []\n",
    "    title = soup.find_all(\"h1\", class_=\"entry-title\", )[-1].text\n",
    "    published_element = soup.find(\"abbr\", class_=\"published\")\n",
    "    date_publication = published_element[\"title\"]\n",
    "    domaine = published_element.previous_sibling.previous_sibling.text\n",
    "    if not comment_li:\n",
    "        commentaire.append({\"article_name\":title,\n",
    "                       \"date_publication\":date_publication,\n",
    "                       \"article_domaine\":domaine,\n",
    "                       \"url_article\":url})\n",
    "        return commentaire\n",
    "    while comment_li:\n",
    "        element_soup = bsoup(str(comment_li), \"html.parser\")\n",
    "        comment_time = element_soup.find(\"abbr\", class_=\"dtreviewed\")[\"title\"]\n",
    "        comment_texte = element_soup.find(\"div\", class_=\"comment-texte\").text\n",
    "        reviewer = element_soup.find(\"span\", class_=\"reviewer\").text[len(\", par  \"):]\n",
    "        comment_li = comment_li.next_sibling.next_sibling \n",
    "        commentaire.append({\"article_name\":title,\n",
    "                       \"date_publication\":date_publication,\n",
    "                       \"article_domaine\":domaine,\n",
    "                       \"comment_time\":comment_time, \n",
    "                       \"comment_texte\":comment_texte,\n",
    "                       \"reviewer\":reviewer,\n",
    "                       \"url_article\":url})\n",
    "    return commentaire"
   ]
  },
  {
   "cell_type": "code",
   "execution_count": null,
   "id": "f817027a-89d9-468b-86cf-e4b65e4fbace",
   "metadata": {},
   "outputs": [],
   "source": []
  },
  {
   "cell_type": "code",
   "execution_count": 340,
   "id": "dcd63176-4b90-452d-97ac-90c25eef1042",
   "metadata": {},
   "outputs": [],
   "source": [
    "def get_link(main_url=\"\"):  \n",
    "    req = requests.get(main_url)\n",
    "    soup = bsoup(req.content, 'html.parser')\n",
    "\n",
    "    all_urls = []\n",
    "    for element in soup.find_all([\"h5\",\"h4\",\"h3\"]):\n",
    "        if element.find(\"a\"):\n",
    "            all_urls.append(f\"{main_url}/{element.find('a')['href']}\")\n",
    "    return all_urls"
   ]
  },
  {
   "cell_type": "code",
   "execution_count": 313,
   "id": "dc91975b-4762-4a6d-a4d6-b5bca34a3bd8",
   "metadata": {},
   "outputs": [],
   "source": [
    "get_link(\"https://lefaso.net\")\n",
    "pass"
   ]
  },
  {
   "cell_type": "code",
   "execution_count": 341,
   "id": "0c45e76d-e561-44f5-9127-e822d9ed9990",
   "metadata": {},
   "outputs": [],
   "source": [
    "dict_df = []\n",
    "df = pd.DataFrame()\n",
    "count = 0\n",
    "for link in get_link(\"https://lefaso.net\"):\n",
    "    df = pd.concat([df,pd.DataFrame(get_data_html(link))])"
   ]
  },
  {
   "cell_type": "code",
   "execution_count": null,
   "id": "c39b5d6e-b799-4272-adaf-b0af42651852",
   "metadata": {},
   "outputs": [],
   "source": []
  }
 ],
 "metadata": {
  "kernelspec": {
   "display_name": "Python 3 (ipykernel)",
   "language": "python",
   "name": "python3"
  },
  "language_info": {
   "codemirror_mode": {
    "name": "ipython",
    "version": 3
   },
   "file_extension": ".py",
   "mimetype": "text/x-python",
   "name": "python",
   "nbconvert_exporter": "python",
   "pygments_lexer": "ipython3",
   "version": "3.10.1"
  }
 },
 "nbformat": 4,
 "nbformat_minor": 5
}
